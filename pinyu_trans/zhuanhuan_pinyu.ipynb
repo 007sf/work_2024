{
 "cells": [
  {
   "cell_type": "code",
   "execution_count": 1,
   "metadata": {},
   "outputs": [
    {
     "ename": "ModuleNotFoundError",
     "evalue": "No module named 'numpy'",
     "output_type": "error",
     "traceback": [
      "\u001b[1;31m---------------------------------------------------------------------------\u001b[0m",
      "\u001b[1;31mModuleNotFoundError\u001b[0m                       Traceback (most recent call last)",
      "Cell \u001b[1;32mIn[1], line 1\u001b[0m\n\u001b[1;32m----> 1\u001b[0m \u001b[38;5;28;01mimport\u001b[39;00m \u001b[38;5;21;01mnumpy\u001b[39;00m \u001b[38;5;28;01mas\u001b[39;00m \u001b[38;5;21;01mnp\u001b[39;00m\n\u001b[0;32m      2\u001b[0m \u001b[38;5;28;01mimport\u001b[39;00m \u001b[38;5;21;01mmatplotlib\u001b[39;00m\u001b[38;5;21;01m.\u001b[39;00m\u001b[38;5;21;01mpyplot\u001b[39;00m \u001b[38;5;28;01mas\u001b[39;00m \u001b[38;5;21;01mplt\u001b[39;00m\n\u001b[0;32m      4\u001b[0m grid_size \u001b[38;5;241m=\u001b[39m \u001b[38;5;241m7\u001b[39m\n",
      "\u001b[1;31mModuleNotFoundError\u001b[0m: No module named 'numpy'"
     ]
    }
   ],
   "source": [
    "import numpy as np\n",
    "import matplotlib.pyplot as plt\n",
    "\n",
    "grid_size = 7\n",
    "sensor_number = 49\n",
    "second_maxima = np.zeros(sensor_number)\n",
    "SMS = []\n",
    "\n",
    "for ii in range(10):\n",
    "    for i in range(1, sensor_number + 1):\n",
    "        grid_data = np.zeros((grid_size, grid_size))\n",
    "        selected_positions = np.random.permutation(grid_size ** 2)[:i]\n",
    "        grid_data.flat[selected_positions] = 1\n",
    "\n",
    "        fft_data = np.fft.fft2(grid_data)\n",
    "        fft_shifted = np.fft.fftshift(fft_data)\n",
    "        magnitude = np.abs(fft_shifted)\n",
    "        normalized_magnitude = (magnitude - magnitude.min()) / (magnitude.max() - magnitude.min())\n",
    "\n",
    "        sorted_magnitude = np.sort(magnitude.flatten())[::-1]\n",
    "        second_maxima[i - 1] = sorted_magnitude[1]\n",
    "    \n",
    "    SMS.append(second_maxima.copy())\n",
    "\n",
    "# 定义x和y轴的刻度\n",
    "x_ticks = np.arange(1, grid_size + 1)\n",
    "y_ticks = np.arange(1, grid_size + 1)\n",
    "\n",
    "# 绘制归一化幅值的热图\n",
    "plt.figure()\n",
    "plt.imshow(normalized_magnitude, cmap='gray', extent=(0.5, 7.5, 0.5, 7.5))\n",
    "plt.colorbar()\n",
    "plt.axis('equal')\n",
    "plt.xlim(0.5, 7.5)\n",
    "plt.ylim(0.5, 7.5)\n",
    "plt.xticks(x_ticks)\n",
    "plt.yticks(y_ticks)\n",
    "plt.legend([])\n",
    "plt.savefig(f\"fourier_spectrum_{sensor_number}_sensor.png\")\n",
    "\n",
    "# 绘制幅值数据的曲线图\n",
    "plt.figure()\n",
    "plt.plot(magnitude.flatten())\n",
    "plt.legend([])\n",
    "plt.savefig(f\"fourier_magnitude_{sensor_number}_sensor.pdf\")\n",
    "\n",
    "# 绘制原始网格数据的热图\n",
    "plt.figure()\n",
    "plt.imshow(grid_data, cmap='gray', extent=(0.5, 7.5, 0.5, 7.5))\n",
    "plt.axis('equal')\n",
    "plt.xlim(0.5, 7.5)\n",
    "plt.ylim(0.5, 7.5)\n",
    "plt.xticks(x_ticks)\n",
    "plt.yticks(y_ticks)\n",
    "plt.legend([])\n",
    "plt.savefig(f\"grid_7_{sensor_number}_sensor.png\")\n",
    "\n",
    "# 绘制第二大幅值的曲线图\n",
    "plt.figure()\n",
    "plt.plot(second_maxima)\n",
    "plt.legend([])\n",
    "plt.savefig(f\"second_maxima_{sensor_number}_sensor.png\")"
   ]
  }
 ],
 "metadata": {
  "kernelspec": {
   "display_name": ".venv",
   "language": "python",
   "name": "python3"
  },
  "language_info": {
   "codemirror_mode": {
    "name": "ipython",
    "version": 3
   },
   "file_extension": ".py",
   "mimetype": "text/x-python",
   "name": "python",
   "nbconvert_exporter": "python",
   "pygments_lexer": "ipython3",
   "version": "3.8.9"
  }
 },
 "nbformat": 4,
 "nbformat_minor": 2
}
